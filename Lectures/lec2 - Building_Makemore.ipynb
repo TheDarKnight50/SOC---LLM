{
  "cells": [
    {
      "cell_type": "code",
      "execution_count": 1,
      "id": "b1b374b1-cdf4-43c6-859e-a5ba6f74c60d",
      "metadata": {
        "id": "b1b374b1-cdf4-43c6-859e-a5ba6f74c60d"
      },
      "outputs": [],
      "source": [
        "words ="
      ]
    }
  ],
  "metadata": {
    "kernelspec": {
      "display_name": "Python 3 (ipykernel)",
      "language": "python",
      "name": "python3"
    },
    "language_info": {
      "codemirror_mode": {
        "name": "ipython",
        "version": 3
      },
      "file_extension": ".py",
      "mimetype": "text/x-python",
      "name": "python",
      "nbconvert_exporter": "python",
      "pygments_lexer": "ipython3",
      "version": "3.8.10"
    },
    "colab": {
      "provenance": []
    }
  },
  "nbformat": 4,
  "nbformat_minor": 5
}