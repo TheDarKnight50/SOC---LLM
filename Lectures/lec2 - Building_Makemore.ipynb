{
  "cells": [
    {
      "cell_type": "code",
      "execution_count": 3,
      "id": "b1b374b1-cdf4-43c6-859e-a5ba6f74c60d",
      "metadata": {
        "id": "b1b374b1-cdf4-43c6-859e-a5ba6f74c60d"
      },
      "outputs": [],
      "source": [
        "words = open('/content/names.txt', 'r').read().splitlines()"
      ]
    },
    {
      "cell_type": "code",
      "source": [
        "words[:10]"
      ],
      "metadata": {
        "id": "BXTwgnnre6PM",
        "outputId": "6662930b-e6e8-4340-b348-8051299119e4",
        "colab": {
          "base_uri": "https://localhost:8080/"
        }
      },
      "id": "BXTwgnnre6PM",
      "execution_count": 6,
      "outputs": [
        {
          "output_type": "execute_result",
          "data": {
            "text/plain": [
              "['emma',\n",
              " 'olivia',\n",
              " 'ava',\n",
              " 'isabella',\n",
              " 'sophia',\n",
              " 'charlotte',\n",
              " 'mia',\n",
              " 'amelia',\n",
              " 'harper',\n",
              " 'evelyn']"
            ]
          },
          "metadata": {},
          "execution_count": 6
        }
      ]
    },
    {
      "cell_type": "code",
      "source": [
        "len(words)"
      ],
      "metadata": {
        "id": "40XRDk7te-0O",
        "outputId": "04a2f7ef-6df1-48ba-f55e-dd7080d8ae5a",
        "colab": {
          "base_uri": "https://localhost:8080/"
        }
      },
      "id": "40XRDk7te-0O",
      "execution_count": 7,
      "outputs": [
        {
          "output_type": "execute_result",
          "data": {
            "text/plain": [
              "32033"
            ]
          },
          "metadata": {},
          "execution_count": 7
        }
      ]
    },
    {
      "cell_type": "code",
      "source": [
        "min(len(w) for w in words)"
      ],
      "metadata": {
        "id": "Z3oFVP0Qe_3x",
        "outputId": "49f4224d-0689-4b16-f182-20ee34621427",
        "colab": {
          "base_uri": "https://localhost:8080/"
        }
      },
      "id": "Z3oFVP0Qe_3x",
      "execution_count": 8,
      "outputs": [
        {
          "output_type": "execute_result",
          "data": {
            "text/plain": [
              "2"
            ]
          },
          "metadata": {},
          "execution_count": 8
        }
      ]
    },
    {
      "cell_type": "code",
      "source": [
        "max(len(w) for w in words)"
      ],
      "metadata": {
        "id": "lTQTDYbmfD-p",
        "outputId": "83b2d4c7-8044-4d94-9e32-0efdb328501b",
        "colab": {
          "base_uri": "https://localhost:8080/"
        }
      },
      "id": "lTQTDYbmfD-p",
      "execution_count": 9,
      "outputs": [
        {
          "output_type": "execute_result",
          "data": {
            "text/plain": [
              "15"
            ]
          },
          "metadata": {},
          "execution_count": 9
        }
      ]
    },
    {
      "cell_type": "code",
      "source": [],
      "metadata": {
        "id": "dQ6jbFF1fGxa"
      },
      "id": "dQ6jbFF1fGxa",
      "execution_count": null,
      "outputs": []
    }
  ],
  "metadata": {
    "kernelspec": {
      "display_name": "Python 3 (ipykernel)",
      "language": "python",
      "name": "python3"
    },
    "language_info": {
      "codemirror_mode": {
        "name": "ipython",
        "version": 3
      },
      "file_extension": ".py",
      "mimetype": "text/x-python",
      "name": "python",
      "nbconvert_exporter": "python",
      "pygments_lexer": "ipython3",
      "version": "3.8.10"
    },
    "colab": {
      "provenance": []
    }
  },
  "nbformat": 4,
  "nbformat_minor": 5
}