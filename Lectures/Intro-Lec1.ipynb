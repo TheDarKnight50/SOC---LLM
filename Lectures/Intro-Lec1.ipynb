{
 "cells": [
  {
   "cell_type": "code",
   "execution_count": 4,
   "id": "856cbe29-3eb9-4326-8ed6-5144f03717d5",
   "metadata": {},
   "outputs": [],
   "source": [
    "import math\n",
    "import numpy as np\n",
    "import matplotlib.pyplot as plt\n",
    "%matplotlib inline"
   ]
  },
  {
   "cell_type": "code",
   "execution_count": 5,
   "id": "1f65a588-292c-4778-9dc0-05ae572dd4ad",
   "metadata": {},
   "outputs": [],
   "source": [
    "def f(x):\n",
    "    return 3 * x * x - 4 * x + 5"
   ]
  },
  {
   "cell_type": "code",
   "execution_count": 11,
   "id": "8046e6b1-7a77-400b-8c3b-78a64ce5717a",
   "metadata": {},
   "outputs": [
    {
     "data": {
      "text/plain": [
       "20.0"
      ]
     },
     "execution_count": 11,
     "metadata": {},
     "output_type": "execute_result"
    }
   ],
   "source": [
    "f(3.0)"
   ]
  },
  {
   "cell_type": "code",
   "execution_count": 17,
   "id": "96b1cf97-bd6e-4eaf-87c0-e8f3560dfbd0",
   "metadata": {},
   "outputs": [
    {
     "data": {
      "text/plain": [
       "[<matplotlib.lines.Line2D at 0x7fd8a0904490>]"
      ]
     },
     "execution_count": 17,
     "metadata": {},
     "output_type": "execute_result"
    },
    {
     "data": {
      "image/png": "[encoded data removed]",
      "text/plain": [
       "<Figure size 640x480 with 1 Axes>"
      ]
     },
     "metadata": {},
     "output_type": "display_data"
    }
   ],
   "source": [
    "x_values = np.arange(-10, 10, 0.25)\n",
    "y_values = f(x_values)\n",
    "plt.plot(x_values, y_values)"
   ]
  },
  {
   "cell_type": "code",
   "execution_count": 18,
   "id": "687786cb-745e-4771-979b-c93c2b916375",
   "metadata": {},
   "outputs": [
    {
     "data": {
      "text/plain": [
       "14.00300000000243"
      ]
     },
     "execution_count": 18,
     "metadata": {},
     "output_type": "execute_result"
    }
   ],
   "source": [
    "h = 0.001\n",
    "x = 3.0\n",
    "der = (f(x + h) - f(x)) / h\n",
    "der"
   ]
  },
  {
   "cell_type": "code",
   "execution_count": 1,
   "id": "1b650693-3f32-45dc-aa9e-19c6137512e1",
   "metadata": {},
   "outputs": [
    {
     "data": {
      "text/plain": [
       "4.0"
      ]
     },
     "execution_count": 1,
     "metadata": {},
     "output_type": "execute_result"
    }
   ],
   "source": [
    "# Complex Functions : \n",
    "a = 2.0\n",
    "b = -3.0\n",
    "c = 10.0\n",
    "d = a * b + c\n",
    "d"
   ]
  },
  {
   "cell_type": "code",
   "execution_count": 2,
   "id": "29c84450-5df8-4a4b-b212-c8fa4e54c622",
   "metadata": {},
   "outputs": [
    {
     "data": {
      "text/plain": [
       "-3.0000000000001137"
      ]
     },
     "execution_count": 2,
     "metadata": {},
     "output_type": "execute_result"
    }
   ],
   "source": [
    "h = 0.001\n",
    "(((a + h) * b + c) - (a * b + c)) / h"
   ]
  },
  {
   "cell_type": "code",
   "execution_count": 31,
   "id": "533b596d-27e6-4fbe-b1ef-357fe2dbad69",
   "metadata": {},
   "outputs": [
    {
     "data": {
      "text/plain": [
       "Value (data = 4.0)"
      ]
     },
     "execution_count": 31,
     "metadata": {},
     "output_type": "execute_result"
    }
   ],
   "source": [
    "class Value :\n",
    "    def __init__(self, data, _children = (), _op = \"\") :\n",
    "        self.data = data\n",
    "        self._prev = set(_children)\n",
    "        self._op = _op\n",
    "\n",
    "    def __repr__(self) :\n",
    "        return f\"Value (data = {self.data})\"\n",
    "\n",
    "    def __add__ (self, other) :\n",
    "        return Value(self.data + other.data, (self, other), '+')\n",
    "\n",
    "    def __mul__ (self, other) :\n",
    "        return Value(self.data * other.data, (self, other), '*')\n",
    "a = Value(2.0)\n",
    "b = Value(-3.0)\n",
    "c = Value(10.0)\n",
    "\n",
    "d = a * (b * c)\n",
    "d"
   ]
  },
  {
   "cell_type": "code",
   "execution_count": 37,
   "id": "5afb1ff9-ecd9-4133-b351-fb25e980ecd2",
   "metadata": {},
   "outputs": [],
   "source": [
    "from graphviz import Digraph\n",
    "\n",
    "def trace(root):\n",
    "  # builds a set of all nodes and edges in a graph\n",
    "  nodes, edges = set(), set()\n",
    "  def build(v):\n",
    "    if v not in nodes:\n",
    "      nodes.add(v)\n",
    "      for child in v._prev:\n",
    "        edges.add((child, v))\n",
    "        build(child)\n",
    "  build(root)\n",
    "  return nodes, edges\n",
    "\n",
    "def draw_dot(root):\n",
    "  dot = Digraph(format='svg', graph_attr={'rankdir': 'LR'}) # LR = left to right\n",
    "  \n",
    "  nodes, edges = trace(root)\n",
    "  for n in nodes:\n",
    "    uid = str(id(n))\n",
    "    # for any value in the graph, create a rectangular ('record') node for it\n",
    "    dot.node(name = uid, label = \"{data %.4f}\" % (n.data), shape='record')\n",
    "    if n._op:\n",
    "      # if this value is a result of some operation, create an op node for it\n",
    "      dot.node(name = uid + n._op, label = n._op)\n",
    "      # and connect this node to it\n",
    "      dot.edge(uid + n._op, uid)\n",
    "\n",
    "  for n1, n2 in edges:\n",
    "    # connect n1 to the op node of n2\n",
    "    dot.edge(str(id(n1)), str(id(n2)) + n2._op)\n",
    "\n",
    "  return dot"
   ]
  },
  {
   "cell_type": "code",
   "execution_count": 39,
   "id": "9126478f-7602-4dd3-84b5-305ebb1d679f",
   "metadata": {},
   "outputs": [
    {
     "data": {
      "image/svg+xml": [
       "<?xml version=\"1.0\" encoding=\"UTF-8\" standalone=\"no\"?>\n",
       "<!DOCTYPE svg PUBLIC \"-//W3C//DTD SVG 1.1//EN\"\n",
       " \"http://www.w3.org/Graphics/SVG/1.1/DTD/svg11.dtd\">\n",
       "<!-- Generated by graphviz version 2.43.0 (0)\n",
       " -->\n",
       "<!-- Title: %3 Pages: 1 -->\n",
       "<svg width=\"580pt\" height=\"127pt\"\n",
       " viewBox=\"0.00 0.00 580.00 127.00\" xmlns=\"http://www.w3.org/2000/svg\" xmlns:xlink=\"http://www.w3.org/1999/xlink\">\n",
       "<g id=\"graph0\" class=\"graph\" transform=\"scale(1 1) rotate(0) translate(4 123)\">\n",
       "<title>%3</title>\n",
       "<polygon fill=\"white\" stroke=\"transparent\" points=\"-4,4 -4,-123 576,-123 576,4 -4,4\"/>\n",
       "<!-- 139673962789904 -->\n",
       "<g id=\"node1\" class=\"node\">\n",
       "<title>139673962789904</title>\n",
       "<polygon fill=\"none\" stroke=\"black\" points=\"235,-27.5 235,-63.5 342,-63.5 342,-27.5 235,-27.5\"/>\n",
       "<text text-anchor=\"middle\" x=\"288.5\" y=\"-41.8\" font-family=\"Times,serif\" font-size=\"14.00\">data &#45;6.0000</text>\n",
       "</g>\n",
       "<!-- 139673962787024+ -->\n",
       "<g id=\"node6\" class=\"node\">\n",
       "<title>139673962787024+</title>\n",
       "<ellipse fill=\"none\" stroke=\"black\" cx=\"407\" cy=\"-72.5\" rx=\"27\" ry=\"18\"/>\n",
       "<text text-anchor=\"middle\" x=\"407\" y=\"-68.8\" font-family=\"Times,serif\" font-size=\"14.00\">+</text>\n",
       "</g>\n",
       "<!-- 139673962789904&#45;&gt;139673962787024+ -->\n",
       "<g id=\"edge3\" class=\"edge\">\n",
       "<title>139673962789904&#45;&gt;139673962787024+</title>\n",
       "<path fill=\"none\" stroke=\"black\" d=\"M342.3,-57.74C352.18,-60.03 362.28,-62.37 371.43,-64.49\"/>\n",
       "<polygon fill=\"black\" stroke=\"black\" points=\"370.78,-67.93 381.31,-66.78 372.36,-61.11 370.78,-67.93\"/>\n",
       "</g>\n",
       "<!-- 139673962789904* -->\n",
       "<g id=\"node2\" class=\"node\">\n",
       "<title>139673962789904*</title>\n",
       "<ellipse fill=\"none\" stroke=\"black\" cx=\"170\" cy=\"-45.5\" rx=\"27\" ry=\"18\"/>\n",
       "<text text-anchor=\"middle\" x=\"170\" y=\"-41.8\" font-family=\"Times,serif\" font-size=\"14.00\">*</text>\n",
       "</g>\n",
       "<!-- 139673962789904*&#45;&gt;139673962789904 -->\n",
       "<g id=\"edge1\" class=\"edge\">\n",
       "<title>139673962789904*&#45;&gt;139673962789904</title>\n",
       "<path fill=\"none\" stroke=\"black\" d=\"M197.14,-45.5C205.41,-45.5 214.93,-45.5 224.62,-45.5\"/>\n",
       "<polygon fill=\"black\" stroke=\"black\" points=\"224.74,-49 234.74,-45.5 224.74,-42 224.74,-49\"/>\n",
       "</g>\n",
       "<!-- 139673962786976 -->\n",
       "<g id=\"node3\" class=\"node\">\n",
       "<title>139673962786976</title>\n",
       "<polygon fill=\"none\" stroke=\"black\" points=\"0,-55.5 0,-91.5 107,-91.5 107,-55.5 0,-55.5\"/>\n",
       "<text text-anchor=\"middle\" x=\"53.5\" y=\"-69.8\" font-family=\"Times,serif\" font-size=\"14.00\">data &#45;3.0000</text>\n",
       "</g>\n",
       "<!-- 139673962786976&#45;&gt;139673962789904* -->\n",
       "<g id=\"edge6\" class=\"edge\">\n",
       "<title>139673962786976&#45;&gt;139673962789904*</title>\n",
       "<path fill=\"none\" stroke=\"black\" d=\"M107.06,-60.65C116.44,-58.35 125.99,-56.02 134.69,-53.89\"/>\n",
       "<polygon fill=\"black\" stroke=\"black\" points=\"135.57,-57.28 144.46,-51.5 133.91,-50.48 135.57,-57.28\"/>\n",
       "</g>\n",
       "<!-- 139673962788512 -->\n",
       "<g id=\"node4\" class=\"node\">\n",
       "<title>139673962788512</title>\n",
       "<polygon fill=\"none\" stroke=\"black\" points=\"233,-82.5 233,-118.5 344,-118.5 344,-82.5 233,-82.5\"/>\n",
       "<text text-anchor=\"middle\" x=\"288.5\" y=\"-96.8\" font-family=\"Times,serif\" font-size=\"14.00\">data 10.0000</text>\n",
       "</g>\n",
       "<!-- 139673962788512&#45;&gt;139673962787024+ -->\n",
       "<g id=\"edge4\" class=\"edge\">\n",
       "<title>139673962788512&#45;&gt;139673962787024+</title>\n",
       "<path fill=\"none\" stroke=\"black\" d=\"M344.34,-87.32C353.57,-85.1 362.91,-82.86 371.44,-80.81\"/>\n",
       "<polygon fill=\"black\" stroke=\"black\" points=\"372.47,-84.16 381.38,-78.42 370.84,-77.35 372.47,-84.16\"/>\n",
       "</g>\n",
       "<!-- 139673962787024 -->\n",
       "<g id=\"node5\" class=\"node\">\n",
       "<title>139673962787024</title>\n",
       "<polygon fill=\"none\" stroke=\"black\" points=\"470,-54.5 470,-90.5 572,-90.5 572,-54.5 470,-54.5\"/>\n",
       "<text text-anchor=\"middle\" x=\"521\" y=\"-68.8\" font-family=\"Times,serif\" font-size=\"14.00\">data 4.0000</text>\n",
       "</g>\n",
       "<!-- 139673962787024+&#45;&gt;139673962787024 -->\n",
       "<g id=\"edge2\" class=\"edge\">\n",
       "<title>139673962787024+&#45;&gt;139673962787024</title>\n",
       "<path fill=\"none\" stroke=\"black\" d=\"M434.26,-72.5C441.96,-72.5 450.73,-72.5 459.64,-72.5\"/>\n",
       "<polygon fill=\"black\" stroke=\"black\" points=\"459.71,-76 469.71,-72.5 459.71,-69 459.71,-76\"/>\n",
       "</g>\n",
       "<!-- 139673962787792 -->\n",
       "<g id=\"node7\" class=\"node\">\n",
       "<title>139673962787792</title>\n",
       "<polygon fill=\"none\" stroke=\"black\" points=\"2.5,-0.5 2.5,-36.5 104.5,-36.5 104.5,-0.5 2.5,-0.5\"/>\n",
       "<text text-anchor=\"middle\" x=\"53.5\" y=\"-14.8\" font-family=\"Times,serif\" font-size=\"14.00\">data 2.0000</text>\n",
       "</g>\n",
       "<!-- 139673962787792&#45;&gt;139673962789904* -->\n",
       "<g id=\"edge5\" class=\"edge\">\n",
       "<title>139673962787792&#45;&gt;139673962789904*</title>\n",
       "<path fill=\"none\" stroke=\"black\" d=\"M104.72,-30.34C114.78,-32.72 125.14,-35.16 134.52,-37.37\"/>\n",
       "<polygon fill=\"black\" stroke=\"black\" points=\"133.72,-40.78 144.25,-39.66 135.32,-33.96 133.72,-40.78\"/>\n",
       "</g>\n",
       "</g>\n",
       "</svg>\n"
      ],
      "text/plain": [
       "<graphviz.graphs.Digraph at 0x7f0860c2bf70>"
      ]
     },
     "execution_count": 39,
     "metadata": {},
     "output_type": "execute_result"
    }
   ],
   "source": [
    "draw_dot(d)"
   ]
  }
 ],
 "metadata": {
  "kernelspec": {
   "display_name": "Python 3 (ipykernel)",
   "language": "python",
   "name": "python3"
  },
  "language_info": {
   "codemirror_mode": {
    "name": "ipython",
    "version": 3
   },
   "file_extension": ".py",
   "mimetype": "text/x-python",
   "name": "python",
   "nbconvert_exporter": "python",
   "pygments_lexer": "ipython3",
   "version": "3.8.10"
  }
 },
 "nbformat": 4,
 "nbformat_minor": 5
}
